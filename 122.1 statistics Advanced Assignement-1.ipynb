{
 "cells": [
  {
   "cell_type": "markdown",
   "metadata": {},
   "source": [
    "Q1. What is the Probability density function?"
   ]
  },
  {
   "cell_type": "markdown",
   "metadata": {},
   "source": [
    "A probability density function (PDF) is used to define the random variable's probability coming within a distinct range of values, as opposed to taking on any one value.\n",
    "\n",
    "A probability density function is a statistical tool used to determine the likelihood of the outcome of a continuous random variable."
   ]
  },
  {
   "cell_type": "markdown",
   "metadata": {},
   "source": [
    "Q2. What are the types of Probability distribution?"
   ]
  },
  {
   "cell_type": "markdown",
   "metadata": {},
   "source": [
    "Types of Probability distribution\n",
    "1. Normal/Gaussian Distribution\n",
    "2. Bernoulli Distribution\n",
    "3. Uniform Distribution\n",
    "4. Poission Distribution\n",
    "5. Log Normal Distribution\n",
    "6. Binomial Distribution"
   ]
  },
  {
   "cell_type": "markdown",
   "metadata": {},
   "source": [
    "Q3. Write a Python function to calculate the probability density function of a normal distribution with\n",
    "given mean and standard deviation at a given point."
   ]
  },
  {
   "cell_type": "markdown",
   "metadata": {},
   "source": [
    "We will use scipy.stats.norm.pdf() method to calculate the probability distribution for a number x."
   ]
  },
  {
   "cell_type": "code",
   "execution_count": 15,
   "metadata": {},
   "outputs": [
    {
     "name": "stdout",
     "output_type": "stream",
     "text": [
      "data points: [ 1.   3.9  6.8  9.7 12.6 15.5 18.4 21.3 24.2 27.1 30. ]\n",
      "Mean: 15.500000000000002\n",
      "Standard Deviation: 9.1706052144883\n",
      "0.017181957241566997\n"
     ]
    }
   ],
   "source": [
    "from scipy.stats import norm\n",
    "import numpy as np\n",
    "  \n",
    "data_start = 1\n",
    "data_end = 30\n",
    "data_points = 11\n",
    "data = np.linspace(data_start, data_end, data_points)\n",
    "print(\"data points:\",data)\n",
    "  \n",
    "mean = np.mean(data)\n",
    "print(\"Mean:\",mean)\n",
    "\n",
    "std = np.std(data)\n",
    "print(\"Standard Deviation:\",std)\n",
    "  \n",
    "probability_pdf = norm.pdf(3, loc=mean, scale=std)\n",
    "print(probability_pdf)"
   ]
  },
  {
   "cell_type": "markdown",
   "metadata": {},
   "source": [
    "Q4. What are the properties of Binomial distribution? Give two examples of events where binomial\n",
    "distribution can be applied."
   ]
  },
  {
   "cell_type": "markdown",
   "metadata": {},
   "source": [
    "The properties of the binomial distribution are: \n",
    "1: The number of observations n is fixed. \n",
    "2: Each observation is independent. \n",
    "3: Each observation represents one of two outcomes (\"success\" or \"failure\"). \n",
    "4: The probability of \"success\" p is the same for each outcome.\n",
    "\n",
    "Examples-\n",
    "Tossing a coin 20 times to see how many tails occur.\n",
    "\n",
    "Asking 200 people if they watch ABC news.\n",
    "\n",
    "Rolling a die to see if a 5 appears."
   ]
  },
  {
   "cell_type": "markdown",
   "metadata": {},
   "source": [
    "Q5. Generate a random sample of size 1000 from a binomial distribution with probability of success 0.4\n",
    "and plot a histogram of the results using matplotlib."
   ]
  },
  {
   "cell_type": "code",
   "execution_count": 26,
   "metadata": {},
   "outputs": [
    {
     "name": "stdout",
     "output_type": "stream",
     "text": [
      "[3 2 4 4 2 5 5 5 4 1 4 5 5 4 3 5 4 7 2 8 6 2 5 4 4 4 3 5 4 3 4 4 5 4 4 6 3\n",
      " 4 4 5 2 2 7 4 3 5 5 2 2 4 3 5 6 5 5 2 5 3 4 2 4 4 4 3 4 3 2 1 2 7 3 5 5 5\n",
      " 5 4 7 3 3 5 8 4 1 2 5 5 3 3 4 2 4 1 4 6 3 7 4 4 4 4 4 5 3 3 6 3 5 3 4 4 4\n",
      " 2 3 4 2 3 4 3 3 3 3 6 3 2 3 1 5 6 4 4 3 7 5 4 3 3 5 3 5 3 2 4 3 4 6 2 3 4\n",
      " 4 3 3 5 7 5 5 6 6 4 6 2 5 2 3 6 5 6 4 3 4 2 3 7 3 4 3 5 1 5 4 1 7 6 3 4 5\n",
      " 5 8 3 7 2 2 6 3 2 5 3 2 5 2 4 2 3 7 3 3 6 3 6 3 4 5 3 5 3 6 5 2 6 1 2 3 3\n",
      " 3 5 2 3 5 4 3 5 5 3 3 5 4 6 5 5 6 1 6 7 3 5 6 4 4 6 5 3 2 7 5 4 4 4 5 3 3\n",
      " 5 3 5 1 3 5 2 6 6 4 3 3 3 1 2 6 4 2 4 4 5 6 6 4 2 2 0 4 3 5 1 4 2 6 5 4 1\n",
      " 3 3 3 6 4 3 6 2 4 3 5 3 1 1 2 6 3 3 4 7 4 2 3 6 2 3 4 5 2 4 4 5 3 5 4 2 3\n",
      " 2 2 3 3 7 7 1 1 1 3 4 4 4 6 4 4 4 4 5 6 2 2 4 4 4 6 7 4 5 4 5 2 4 4 5 3 2\n",
      " 5 3 7 3 3 5 5 3 4 5 4 8 4 6 4 6 3 3 6 5 3 9 1 4 5 5 3 4 3 2 6 6 4 4 3 3 4\n",
      " 3 6 3 4 3 3 5 7 3 4 3 6 2 4 2 2 5 3 3 2 2 3 4 5 5 4 5 4 4 4 5 6 5 6 3 4 4\n",
      " 3 4 5 2 4 5 2 5 5 3 2 5 3 5 3 6 3 4 5 5 5 4 7 6 3 2 3 5 5 0 7 2 3 4 4 3 5\n",
      " 4 3 5 5 7 3 3 7 3 4 4 2 4 4 4 2 4 6 4 4 3 4 4 5 4 3 5 5 4 3 3 5 3 6 4 2 5\n",
      " 2 3 4 7 4 6 2 6 4 3 2 7 5 5 4 5 4 3 6 3 4 4 2 5 4 4 4 3 6 5 4 6 3 4 3 3 6\n",
      " 3 3 4 5 5 4 4 6 6 3 6 3 3 4 5 3 5 7 1 4 5 2 4 4 2 2 6 6 6 4 6 3 3 2 5 4 4\n",
      " 5 4 6 4 5 5 2 7 5 5 6 5 4 2 5 3 4 6 2 5 4 3 2 8 5 5 6 6 4 4 7 2 2 3 4 1 5\n",
      " 4 7 2 5 2 4 5 2 6 4 6 5 4 5 8 6 2 5 4 9 4 3 2 6 4 4 3 6 2 5 4 4 4 3 4 4 3\n",
      " 4 3 2 4 4 3 3 2 4 2 5 4 5 3 4 6 6 7 2 4 4 4 6 3 3 4 4 3 4 4 2 2 4 3 3 4 6\n",
      " 3 5 1 3 4 3 7 5 2 5 2 6 5 6 3 2 5 5 2 3 4 6 3 4 5 4 6 6 2 3 4 4 4 3 4 2 3\n",
      " 4 1 5 4 3 4 3 3 6 3 5 5 5 4 4 5 6 6 4 5 3 5 2 5 2 3 4 2 5 5 6 3 4 5 5 4 4\n",
      " 2 5 7 6 3 3 2 3 5 4 5 2 7 3 5 1 5 6 4 5 4 2 4 1 3 3 4 3 4 8 3 4 4 4 6 3 7\n",
      " 6 1 4 1 3 4 4 5 6 4 6 4 1 4 2 1 2 6 6 5 5 6 4 5 4 3 5 1 7 2 2 2 1 1 3 1 6\n",
      " 3 7 5 5 4 4 5 4 4 5 4 3 1 0 4 3 6 4 4 2 4 5 2 5 4 2 5 4 3 5 8 4 8 2 4 5 2\n",
      " 4 4 2 5 4 6 7 2 3 3 3 5 5 3 7 2 5 2 8 4 3 2 6 5 3 2 3 8 6 7 6 3 2 5 5 8 4\n",
      " 2 5 5 2 4 2 6 5 3 4 5 4 3 5 3 7 3 4 7 6 2 5 3 6 5 6 3 4 5 4 4 4 6 2 4 4 3\n",
      " 4 7 4 3 4 4 4 5 5 6 3 5 5 4 5 6 5 7 4 6 4 5 5 6 3 1 6 5 0 6 3 2 4 4 6 2 4\n",
      " 8]\n"
     ]
    }
   ],
   "source": [
    "from numpy import random\n",
    "import matplotlib.pyplot as plt\n",
    "\n",
    "x = random.binomial(n=10, p=0.4, size=1000)\n",
    "\n",
    "print(x)"
   ]
  },
  {
   "cell_type": "code",
   "execution_count": 32,
   "metadata": {},
   "outputs": [
    {
     "data": {
      "image/png": "[encoded data removed]",
      "text/plain": [
       "<Figure size 432x288 with 1 Axes>"
      ]
     },
     "metadata": {
      "needs_background": "light"
     },
     "output_type": "display_data"
    }
   ],
   "source": [
    "plt.hist(x,density=True,label=\"Sample\")\n",
    "plt.legend()\n",
    "plt.xlabel(\"random sample numbers\")\n",
    "plt.ylabel(\"Density\")\n",
    "plt.title(\"Histogram plot\")\n",
    "plt.show()"
   ]
  },
  {
   "cell_type": "markdown",
   "metadata": {},
   "source": [
    "Q6. Write a Python function to calculate the cumulative distribution function of a Poisson distribution\n",
    "with given mean at a given point."
   ]
  },
  {
   "cell_type": "code",
   "execution_count": 39,
   "metadata": {},
   "outputs": [
    {
     "name": "stdout",
     "output_type": "stream",
     "text": [
      "[ 0  1  2  3  4  5  6  7  8  9 10 11 12 13 14 15 16]\n",
      "[0.001 0.006 0.022 0.052 0.091 0.128 0.149 0.149 0.13  0.101 0.071 0.045\n",
      " 0.026 0.014 0.007 0.003 0.001]\n",
      "##############\n",
      "[0.001 0.007 0.03  0.082 0.173 0.301 0.45  0.599 0.729 0.83  0.901 0.947\n",
      " 0.973 0.987 0.994 0.998 0.999]\n"
     ]
    }
   ],
   "source": [
    "import numpy as np\n",
    "import matplotlib.pyplot as plt\n",
    "from scipy.stats import poisson\n",
    "\n",
    "k = np.arange(0, 17)\n",
    "\n",
    "print(k)\n",
    "\n",
    "#mean =7\n",
    "pmf = poisson.pmf(k, mu=7)\n",
    "pmf = np.round(pmf, 3)\n",
    "\n",
    "print(pmf)\n",
    "print(\"##############\")\n",
    "\n",
    "cdf = poisson.cdf(k, mu=7)\n",
    "cdf = np.round(cdf, 3)\n",
    "\n",
    "print(cdf)"
   ]
  },
  {
   "cell_type": "code",
   "execution_count": 40,
   "metadata": {},
   "outputs": [
    {
     "data": {
      "image/png": "[encoded data removed]",
      "text/plain": [
       "<Figure size 432x288 with 1 Axes>"
      ]
     },
     "metadata": {
      "needs_background": "light"
     },
     "output_type": "display_data"
    }
   ],
   "source": [
    "plt.plot(k, cdf, marker='o')\n",
    "plt.xlabel('k')\n",
    "plt.ylabel('Cumulative Probability')\n",
    "\n",
    "plt.show()"
   ]
  },
  {
   "cell_type": "markdown",
   "metadata": {},
   "source": [
    "Q7. How Binomial distribution different from Poisson distribution?"
   ]
  },
  {
   "cell_type": "markdown",
   "metadata": {},
   "source": [
    "Binomial distribution describes the distribution of binary data from a finite sample. Thus it gives the probability of getting r events out of n trials. Poisson distribution describes the distribution of binary data from an infinite sample. Thus it gives the probability of getting r events in a population.\n",
    "\n",
    "Binomial distribution is the one in which the number of outcomes are only two, that is success or failure. Example of binomial distribution: Coin toss. Poisson distribution: Poisson distribution is the one in which the number of possible outcomes has no limits.\n",
    "\n",
    "The Poisson distribution deals with continuous random variables, unlike the Binomial distribution, which deals with discrete random variables."
   ]
  },
  {
   "cell_type": "markdown",
   "metadata": {},
   "source": [
    "Q8. Generate a random sample of size 1000 from a Poisson distribution with mean 5 and calculate the\n",
    "sample mean and variance."
   ]
  },
  {
   "cell_type": "code",
   "execution_count": 48,
   "metadata": {},
   "outputs": [
    {
     "name": "stdout",
     "output_type": "stream",
     "text": [
      "[ 2  3  5  7  3  4  7 10  5  5  6  6  5  2  4  5  8  6  5  4  5  3 10  4\n",
      "  8  5  2  5  7  4  3  7 10  6  2  5  8  1  2  4  6  5  6  3  3  7  5  8\n",
      "  8  5  6  3  5  9  5  3  2  7  8  7  8  8  6  5  3  5  5  4  3  3 12 10\n",
      "  5  3  4  5  8 11  3  5  2  7  5  3  9  2  7  5  2  4  9 12  3  2  6  4\n",
      "  7  7  5  5  5  4  8  2  5  8  6  6  4  9  2  2  3  4  6  1  6  5  2  3\n",
      "  7  6  6  8 11  4  5  5  5  7  2  7  3 10  4  2  4  5  6  4  3  1  5  1\n",
      "  8  8  5  6  2  4  3  3  8  2 12  6  4  4  3  4  6  5  0  3 11  6  8  4\n",
      "  7  4  8  7  8  4  4  6  5  4  4  7  9  3  3 11  2  5  5  8  2  9  5  4\n",
      "  4  5  4  8  3  3  6  4  6  1 11  7  3  3  6  6  7 11  4  6  4  5  7  7\n",
      "  5  2  7  4  6  5  7  2  5  4  4  8  4  3  6  1 10  2  6  5  6  8  5  7\n",
      "  5  2  9  6  3  7  4  2  3  5  9  4 11  3  3  5  2  4 11  4  5  4  4  3\n",
      " 10  9  3  3  5  8  4  3  2  3  5  4  7  2  6  4  4  8  6  5  4  7  7  2\n",
      "  6  8  8  4  5  5  3  1  4 10  7  4  9  9  3  2  3  3  3  6  3  5  6  2\n",
      "  4  5  8  5  4  2  2  2  5  2  4  3  4  4  5  5  1  4  5  0  5  6  5  9\n",
      "  5  7  3  4  6  8  2  8  5  4  3  6  7  5  4  6  2  2  3  5  8  5  5 10\n",
      "  4  2  7  4  6  7  6  4  4  4  9  5  7  5  7  6  5  6  6  5  5  5  8  6\n",
      "  5  9  5  6  5  5  6  5  5  8  2  9  7  4  4  6  5  7  3  2  6  4  3  5\n",
      "  4  5  4  4  3  5  8  3  5  3  2  4  6  4  6  6 10  4  5  1  2  4  3  6\n",
      "  4  6 11  6  0  9  6  8  6 10  1  2  7  6  2  3  5  6  8  4  7  1  1  7\n",
      "  9  7  8  9  8  3  2  3  8  7  2  4  4 10  7  9  4  2  1  4  8  9  2 10\n",
      "  2  6  4  6  2  5  9  5  6  3  7  4  1  2  2  4  7  3  4 10  6  6  8  2\n",
      "  4  2  3  6  3  6 10  8  4  0  5  8  9  2  4  9  6  6  5  2  4  7  6  7\n",
      "  9  6  5  5  9  4 10  6  6  9  6  3  7  5  7  4  8  8  6  8  2  7  5  2\n",
      "  3  8  3  8  8  5  4  3  6  0  3  1  4  5  4  5  2  4  3  6  3  4  5  2\n",
      "  5  5  5  3  2  5  3  6  6  5  8  4  4  9  2  6  6  5  7  8  6  7  3  4\n",
      "  3  3  7  8  4  4  7  8  3  5  7  2  9  5  3  3  3  7 10  3  5  6  2  6\n",
      "  6  6  6  4  4  5  4  4  6  6  4  5  3  5  3  2  1  4  4  7  7  9  5  6\n",
      "  3  3  9  5  5  9  2  7  9  5  2  5  4  5  8  2  4  3  3  1  4  5  6  5\n",
      "  4  6  0  3  4  4  8  5  8  4  9  4  5  4 13  6  4  5  5  5  5  7  6  5\n",
      "  3  4  5  6  1  5 11  2  6  7  7  4  4  3  9  3  5  5  2  6  8  4  4  5\n",
      "  6  3  6  4  8  5  5  5  9  5  4  3  2  6  5  5  6  9  6  7  4  3  4  7\n",
      "  3  5  6  5  8  8  7  0  4  2  5  7  2  2  5  7  1  5  5  4  7  5  5  6\n",
      "  8  6  9  3  1  7  3  3  1  5  5  0  8  5  3  2  8  3  1  8  5  2  5  3\n",
      "  3  7  7  5  5  5  3  1  4  4  3 10  4  2 12  3  8  4  5  0  5  2  3  3\n",
      "  6  5  2  5  6  4  5  5  3  6  4  6  2  6  8  7  1  1  3  6  5  5  5  4\n",
      "  4  7  6  9  6  9  4  6  4  4 10  7  2  1  6  2  6  7  1  6  7  6  7  4\n",
      "  5  5  8  6  7  4  4  3  7  4  6  7  6  3  7  3  3  5  6  3  2  6  4  5\n",
      "  6  1  3  2  7  3 12  4  7  8  3  3  2  5  2  7  8  1  5  0  7  1  5  3\n",
      "  1  3  3  6  4 10  5  7  3  5  3  5  2  3  5  5  8  5  8  8  6  4  5  7\n",
      "  7  5  5  7  5  8  7  3  4  7  3  3  6  1  5  3  8  2  3  6  2  6  4  9\n",
      "  4  5  1  3  9  5  6  2  4  2  5  5  2  9  8  4  5 10  1  7  3 11  5  5\n",
      " 11  6  5  4  8  6  8  3  5  8  3  2  6  3  1  4]\n",
      "the sample mean: 5.045\n",
      "the sample variance: 5.468975\n"
     ]
    }
   ],
   "source": [
    "from numpy import random\n",
    "import matplotlib.pyplot as plt\n",
    "\n",
    "x =np.random.poisson(5, 1000)\n",
    "print(x)\n",
    "\n",
    "mean_value= x.mean()\n",
    "print(\"the sample mean:\",mean_value)\n",
    "\n",
    "variance_value = x.var()\n",
    "print(\"the sample variance:\",variance_value)"
   ]
  },
  {
   "cell_type": "markdown",
   "metadata": {},
   "source": [
    "Q9. How mean and variance are related in Binomial distribution and Poisson distribution?"
   ]
  },
  {
   "cell_type": "markdown",
   "metadata": {},
   "source": [
    "in case of Binomial Distribution Mean > Variance\n",
    "\n",
    "in case of Poission Distribution Mean = Variance"
   ]
  },
  {
   "cell_type": "markdown",
   "metadata": {},
   "source": [
    "Q10. In normal distribution with respect to mean position, where does the least frequent data appear?"
   ]
  },
  {
   "cell_type": "markdown",
   "metadata": {},
   "source": [
    "in normal distribution w.r.t mean position the least frequent data farther away from the mean."
   ]
  },
  {
   "cell_type": "code",
   "execution_count": null,
   "metadata": {},
   "outputs": [],
   "source": []
  }
 ],
 "metadata": {
  "kernelspec": {
   "display_name": "Python 3",
   "language": "python",
   "name": "python3"
  },
  "language_info": {
   "codemirror_mode": {
    "name": "ipython",
    "version": 3
   },
   "file_extension": ".py",
   "mimetype": "text/x-python",
   "name": "python",
   "nbconvert_exporter": "python",
   "pygments_lexer": "ipython3",
   "version": "3.8.3"
  }
 },
 "nbformat": 4,
 "nbformat_minor": 4
}
