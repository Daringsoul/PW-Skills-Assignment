{
 "cells": [
  {
   "cell_type": "markdown",
   "metadata": {},
   "source": [
    "Q1. Explain the following with an example:\n",
    "\n",
    "1. Artificial Intelligence\n",
    "2. Machine learning\n",
    "3. Deep Learning"
   ]
  },
  {
   "cell_type": "markdown",
   "metadata": {},
   "source": [
    "1. Artificial intelligence - Artificial intelligence is about teaching computers to program themselves to make decisions or perform actions based on its existing knowledge. Specific applications of AI include expert systems, natural language processing, speech recognition and machine vision."
   ]
  },
  {
   "cell_type": "markdown",
   "metadata": {},
   "source": [
    "2. Machine learning- In Machine Learning models are trained with labeled or unlabelled data sets, which allow the models to learn and grow more accurate over time.For example, in natural language processing, machine learning models can parse and correctly recognize the intent behind previously unheard sentences or combinations of words."
   ]
  },
  {
   "cell_type": "markdown",
   "metadata": {},
   "source": [
    "3. Deep Learning- Deep learning is a machine learning technique that teaches computers to do what comes naturally to humans. Deep learning is a key technology behind driverless cars, enabling them to recognize a stop sign, or to distinguish a pedestrian from a lamppost."
   ]
  },
  {
   "cell_type": "markdown",
   "metadata": {},
   "source": [
    "Q2. what is supervised machine learning? list some examples of supervised machine learning."
   ]
  },
  {
   "cell_type": "markdown",
   "metadata": {},
   "source": [
    "Supervised learning is the type of machine learning in which machines are trained using well \"labelled\" training data.It is defined by its use of labeled datasets to train algorithms that to classify data or predict outcomes accurately.\n",
    "\n",
    "Image and speech recognition, recommendation systems, and fraud detection are all examples of how supervised learning is used"
   ]
  },
  {
   "cell_type": "markdown",
   "metadata": {},
   "source": [
    "Q3. what is unsupervised machine learning? list some examples of unsupervised machine learning."
   ]
  },
  {
   "cell_type": "markdown",
   "metadata": {},
   "source": [
    "Unsupervised learning is a machine learning technique in which models are not supervised using training dataset.This uses machine learning algorithms to analyze and cluster unlabeled datasets. These algorithms discover hidden patterns or data groupings without the need for human intervention.\n",
    "\n",
    "Examples of unsupervised machine learnings:\n",
    "Pattern recognition (grouping images, transcribing audio)\n",
    "Inventory management (by conversion activity or by availability)"
   ]
  },
  {
   "cell_type": "markdown",
   "metadata": {},
   "source": [
    "Q4. what is the difference between AI,DL,ML,DS?"
   ]
  },
  {
   "cell_type": "markdown",
   "metadata": {},
   "source": [
    "AI is a computer algorithm which exhibits intelligence through decision making and can perform its own task without any human intervention. \n",
    "\n",
    "ML is an AI algorithm which allows system to learn from data and provides statistical tools to analyze ,visualize data and perform predictive modelling. \n",
    "\n",
    "DL is a ML algorithm that uses deep(more than one layer) neural networks to analyze data and provide output accordingly. \n",
    "\n",
    "DS is the study of data to extract meaningful insights for business. It is a multidisciplinary approach that combines principles and practices from the fields of mathematics, statistics, artificial intelligence, and computer engineering to analyze large amounts of data."
   ]
  },
  {
   "cell_type": "markdown",
   "metadata": {},
   "source": [
    "Q5. What are the main differences between supervised,unsupervised and semi-supervised learning?"
   ]
  },
  {
   "cell_type": "markdown",
   "metadata": {},
   "source": [
    "Supervised learning algorithms are trained using labeled data.Supervised learning model takes direct feedback to check if it is predicting correct output or not. Used for training the model to predict output when a new data is provided is the objective of Supervised Learning."
   ]
  },
  {
   "cell_type": "markdown",
   "metadata": {},
   "source": [
    "Unsupervised learning algorithms are trained using unlabeled data. Unsupervised learning model does not take any feedback. Finding useful insights, hidden patterns from the unknown dataset is the objective of the unsupervised learning."
   ]
  },
  {
   "cell_type": "markdown",
   "metadata": {},
   "source": [
    "Semi-supervised machine learning is a combination of supervised and unsupervised learning. It uses a small amount of labeled data and a large amount of unlabeled data, which provides the benefits of both unsupervised and supervised learning while avoiding the challenges of finding a large amount of labeled data. In semi-supervised learning, we train the model with a less labeled dataset."
   ]
  },
  {
   "cell_type": "markdown",
   "metadata": {},
   "source": [
    "Q6. What is train,test and validation split? explain the importance of each term."
   ]
  },
  {
   "cell_type": "markdown",
   "metadata": {},
   "source": [
    "Training data is the set of the data on which the actual training takes place. We train our models on the training data.\n",
    "\n",
    "Validation split helps to improve the model performance by fine-tuning (HyperParameter Tuning) the model after each epoch.\n",
    "\n",
    "The test set informs us about the final accuracy of the model after completing the training phase. Model will be tested on the test split data. "
   ]
  },
  {
   "cell_type": "markdown",
   "metadata": {},
   "source": [
    "Q7. How can unsupervised learning be used in anomaly detection?"
   ]
  },
  {
   "cell_type": "markdown",
   "metadata": {},
   "source": [
    "One of the applications of unsupervised learning is anomaly detection, which is the task of identifying outliers or abnormal instances in the data.\n",
    "\n",
    "Anomaly detection techniques of unsupervised nature assume that normal data points occur considerably more frequently than anomalous data points. This assumption is used to classify data points that occur less frequently as anomalies. Unsupervised techniques assign each data point a score instead of a label."
   ]
  },
  {
   "cell_type": "markdown",
   "metadata": {},
   "source": [
    "Q8. List down some commonly used supervised learning algorithms and unsupervised learning alogorithms."
   ]
  },
  {
   "cell_type": "markdown",
   "metadata": {},
   "source": [
    "The most widely used supervised learning algorithms are:\n",
    "Support-vector machines.\n",
    "Linear regression.\n",
    "Logistic regression.\n",
    "Naive Bayes.\n",
    "Decision trees.\n",
    "Random forest\n",
    "\n",
    "list of some popular unsupervised learning algorithms:\n",
    "K-means clustering.\n",
    "KNN (k-nearest neighbors)\n",
    "Hierarchal clustering.\n",
    "Neural Networks.\n",
    "Principle Component Analysis"
   ]
  },
  {
   "cell_type": "code",
   "execution_count": null,
   "metadata": {},
   "outputs": [],
   "source": []
  }
 ],
 "metadata": {
  "kernelspec": {
   "display_name": "Python 3",
   "language": "python",
   "name": "python3"
  },
  "language_info": {
   "codemirror_mode": {
    "name": "ipython",
    "version": 3
   },
   "file_extension": ".py",
   "mimetype": "text/x-python",
   "name": "python",
   "nbconvert_exporter": "python",
   "pygments_lexer": "ipython3",
   "version": "3.8.3"
  }
 },
 "nbformat": 4,
 "nbformat_minor": 4
}
