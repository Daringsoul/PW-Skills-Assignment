{
 "cells": [
  {
   "cell_type": "markdown",
   "metadata": {},
   "source": [
    "Q1. Create a Pandas Series that contains the following data: 4, 8, 15, 16, 23, and 42. Then, print the series."
   ]
  },
  {
   "cell_type": "code",
   "execution_count": 1,
   "metadata": {},
   "outputs": [
    {
     "name": "stdout",
     "output_type": "stream",
     "text": [
      "0     4\n",
      "1     8\n",
      "2    15\n",
      "3    16\n",
      "4    23\n",
      "5    42\n",
      "dtype: int32\n"
     ]
    }
   ],
   "source": [
    "import pandas as pd\n",
    "import numpy as np\n",
    " \n",
    "# simple array\n",
    "data = np.array([4, 8, 15, 16, 23, 42])\n",
    " \n",
    "ser = pd.Series(data)\n",
    "print(ser)"
   ]
  },
  {
   "cell_type": "markdown",
   "metadata": {},
   "source": [
    "Q2. Create a variable of list type containing 10 elements in it, and apply pandas.Series function on the\n",
    "variable print it."
   ]
  },
  {
   "cell_type": "code",
   "execution_count": 27,
   "metadata": {},
   "outputs": [
    {
     "name": "stdout",
     "output_type": "stream",
     "text": [
      "0      4\n",
      "1      5\n",
      "2      2\n",
      "3     78\n",
      "4      4\n",
      "5      2\n",
      "6     45\n",
      "7      7\n",
      "8     98\n",
      "9    567\n",
      "dtype: int64\n"
     ]
    }
   ],
   "source": [
    "list1 = [4,5,2,78,4,2,45,7,98,567]\n",
    "df1 = pd.Series(list1)\n",
    "print(df1)"
   ]
  },
  {
   "cell_type": "markdown",
   "metadata": {},
   "source": [
    "Q3. Create a Pandas DataFrame that contains the following data:\n",
    "\n",
    "Then, print the DataFrame."
   ]
  },
  {
   "cell_type": "code",
   "execution_count": 12,
   "metadata": {},
   "outputs": [
    {
     "name": "stdout",
     "output_type": "stream",
     "text": [
      "     Name  Age  Gender\n",
      "0   Alice   26  Female\n",
      "1     Bob   30    Male\n",
      "2  Claire   27  Female\n"
     ]
    }
   ],
   "source": [
    "df2= pd.DataFrame({\"Name\":['Alice','Bob','Claire'],\n",
    "                    \"Age\": [26,30,27],\n",
    "                    \"Gender\":[\"Female\",\"Male\",\"Female\"]})\n",
    "\n",
    "\n",
    "print(df2)"
   ]
  },
  {
   "cell_type": "markdown",
   "metadata": {},
   "source": [
    "Q4. What is ‘DataFrame’ in pandas and how is it different from pandas.series? Explain with an example."
   ]
  },
  {
   "cell_type": "markdown",
   "metadata": {},
   "source": [
    "A Pandas DataFrame is a 2 dimensional data structure, like a 2 dimensional array, or a table with rows and columns.\n",
    "Series is like 1-D array or like a single column.\n",
    "\n",
    "\n",
    "1)Series are 1-D, whereas Dataframe are 2-D. \n",
    "2)Series consists of homogeneous data, whereas dataframe consists of heterogeneous data. \n",
    "3)series are value mutable whereas dataframe are not."
   ]
  },
  {
   "cell_type": "code",
   "execution_count": 18,
   "metadata": {},
   "outputs": [
    {
     "name": "stdout",
     "output_type": "stream",
     "text": [
      "dataframe example\n",
      "     Name  Gender\n",
      "0   Alice  Female\n",
      "1     Bob    Male\n",
      "2  Claire  Female\n",
      "####################33\n",
      "series example\n",
      "day1    420\n",
      "day2    380\n",
      "dtype: int64\n"
     ]
    }
   ],
   "source": [
    "##dataframe example\n",
    "print(\"dataframe example\")\n",
    "df2= pd.DataFrame({\"Name\":['Alice','Bob','Claire'],\n",
    "                    \"Gender\":[\"Female\",\"Male\",\"Female\"]})\n",
    "\n",
    "\n",
    "print(df2)\n",
    "\n",
    "print(\"####################33\")\n",
    "##series example\n",
    "print(\"series example\")\n",
    "\n",
    "calories = {\"day1\": 420, \"day2\": 380, \"day3\": 390}\n",
    "\n",
    "myvar = pd.Series(calories, index = [\"day1\", \"day2\"])\n",
    "\n",
    "print(myvar)"
   ]
  },
  {
   "cell_type": "markdown",
   "metadata": {},
   "source": [
    "Q5. What are some common functions you can use to manipulate data in a Pandas DataFrame? Can\n",
    "you give an example of when you might use one of these functions?"
   ]
  },
  {
   "cell_type": "markdown",
   "metadata": {},
   "source": [
    "The functions we use to manipulate data in a pandas dataframe are\n",
    "sort_values(),drop(),drop_duplicates(),apply(),merge()"
   ]
  },
  {
   "cell_type": "code",
   "execution_count": 25,
   "metadata": {},
   "outputs": [
    {
     "name": "stdout",
     "output_type": "stream",
     "text": [
      "Dataframe Before sorting in ascending order:\n",
      "      Name  Score\n",
      "0   Rohan     76\n",
      "1   Rahul     69\n",
      "2  Gaurav     70\n",
      "3  Ananya     88\n",
      "4   Vinay     79\n",
      "5   Rohan     64\n",
      "6   Vivek     62\n",
      "7   Vinay     57\n",
      "Dataframe After sorting in ascending order:\n",
      "      Name  Score\n",
      "7   Vinay     57\n",
      "6   Vivek     62\n",
      "5   Rohan     64\n",
      "1   Rahul     69\n",
      "2  Gaurav     70\n",
      "0   Rohan     76\n",
      "4   Vinay     79\n",
      "3  Ananya     88\n"
     ]
    }
   ],
   "source": [
    "#sort_values function example\n",
    "student = pd.DataFrame({'Name': ['Rohan', 'Rahul', 'Gaurav',\n",
    "                                 'Ananya', 'Vinay', 'Rohan',\n",
    "                                 'Vivek', 'Vinay'],\n",
    "                         \n",
    "                        'Score': [76, 69, 70, 88, 79, 64, 62, 57]})\n",
    " \n",
    "# Reading Dataframe\n",
    "print(\"Dataframe Before sorting in ascending order:\\n\",student)\n",
    "student_sort = student.sort_values(by=['Score'], ascending=True)\n",
    "print(\"Dataframe After sorting in ascending order:\\n\",student_sort)"
   ]
  },
  {
   "cell_type": "markdown",
   "metadata": {},
   "source": [
    "Q6. Which of the following is mutable in nature Series, DataFrame, Panel?\n",
    "\n",
    "DataFrame is mutable"
   ]
  },
  {
   "cell_type": "markdown",
   "metadata": {},
   "source": [
    "Q7. Create a DataFrame using multiple Series. Explain with an example."
   ]
  },
  {
   "cell_type": "code",
   "execution_count": 33,
   "metadata": {},
   "outputs": [
    {
     "name": "stdout",
     "output_type": "stream",
     "text": [
      "   courses   fees  discount\n",
      "0    Spark  22000      1000\n",
      "1  PySpark  25000      2300\n",
      "2   Hadoop  23000      1000\n"
     ]
    }
   ],
   "source": [
    "courses = pd.Series([\"Spark\",\"PySpark\",\"Hadoop\"],name=\"courses\")\n",
    "fees = pd.Series([22000,25000,23000],name=\"fees\")\n",
    "discount  = pd.Series([1000,2300,1000],name=\"discount\")\n",
    "df3 = pd.concat([courses,fees,discount],axis=1)\n",
    "print(df3)"
   ]
  },
  {
   "cell_type": "code",
   "execution_count": null,
   "metadata": {},
   "outputs": [],
   "source": []
  }
 ],
 "metadata": {
  "kernelspec": {
   "display_name": "Python 3",
   "language": "python",
   "name": "python3"
  },
  "language_info": {
   "codemirror_mode": {
    "name": "ipython",
    "version": 3
   },
   "file_extension": ".py",
   "mimetype": "text/x-python",
   "name": "python",
   "nbconvert_exporter": "python",
   "pygments_lexer": "ipython3",
   "version": "3.8.3"
  }
 },
 "nbformat": 4,
 "nbformat_minor": 4
}
