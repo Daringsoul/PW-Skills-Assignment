{
 "cells": [
  {
   "cell_type": "markdown",
   "metadata": {},
   "source": [
    "Q1. What are the three measures of central tendency?"
   ]
  },
  {
   "cell_type": "markdown",
   "metadata": {},
   "source": [
    "1. Mean\n",
    "2. Median\n",
    "3. Mode"
   ]
  },
  {
   "cell_type": "markdown",
   "metadata": {},
   "source": [
    "Q2. What is the difference between the mean, median, and mode? How are they used to measure the\n",
    "central tendency of a dataset?"
   ]
  },
  {
   "cell_type": "markdown",
   "metadata": {},
   "source": [
    " The mean is the average where the sum of all the numbers is divided by the total number of numbers,\n",
    " whereas the median is the middle value in the list of given numbers numerically ordered from smallest to biggest and\n",
    "mode is the value of the number which occurs most often in the list."
   ]
  },
  {
   "cell_type": "markdown",
   "metadata": {},
   "source": [
    "Measures of central tendency helps us to find out the middle as well as the average value, of a dataset.\n",
    "\n",
    "Mean is the most commonly used measure of central tendency because all values are used in the calculation.\n",
    "\n",
    "The median is the most informative measure of central tendency for skewed distributions or distributions with outliers.\n",
    "\n",
    "The mode is most applicable to data from a nominal level of measurement"
   ]
  },
  {
   "cell_type": "markdown",
   "metadata": {},
   "source": [
    "Q3. Measure the three measures of central tendency for the given height data:\n",
    "[178,177,176,177,178.2,178,175,179,180,175,178.9,176.2,177,172.5,178,176.5]"
   ]
  },
  {
   "cell_type": "code",
   "execution_count": 23,
   "metadata": {},
   "outputs": [
    {
     "name": "stdout",
     "output_type": "stream",
     "text": [
      "The mean of the complete list is: 177.01875\n",
      "The median of the complete list is: 177.0\n",
      "The mode of the complete list is: 177.0\n"
     ]
    }
   ],
   "source": [
    "import statistics\n",
    "\n",
    "list1= [178,177,176,177,178.2,178,175,179,180,175,178.9,176.2,177,172.5,178,176.5]\n",
    "average= sum(list1) / len(list1)\n",
    "print(\"The mean of the complete list is:\",average)\n",
    "median = statistics.median(list1)\n",
    "print(\"The median of the complete list is:\",median)\n",
    "mode = statistics.median(list1)\n",
    "print(\"The mode of the complete list is:\",mode)"
   ]
  },
  {
   "cell_type": "markdown",
   "metadata": {},
   "source": [
    "Q4. Find the standard deviation for the given data:\n",
    "\n",
    "[178,177,176,177,178.2,178,175,179,180,175,178.9,176.2,177,172.5,178,176.5]"
   ]
  },
  {
   "cell_type": "code",
   "execution_count": 27,
   "metadata": {},
   "outputs": [
    {
     "name": "stdout",
     "output_type": "stream",
     "text": [
      "The original list : [178, 177, 176, 177, 178.2, 178, 175, 179, 180, 175, 178.9, 176.2, 177, 172.5, 178, 176.5]\n",
      "Standard deviation of sample is : 1.7885814036548633\n"
     ]
    }
   ],
   "source": [
    "test_list = [178,177,176,177,178.2,178,175,179,180,175,178.9,176.2,177,172.5,178,176.5]\n",
    " \n",
    "# printing list\n",
    "print(\"The original list : \" + str(test_list))\n",
    " \n",
    "# Standard deviation of list\n",
    "# Using sum() + list comprehension\n",
    "mean = sum(test_list) / len(test_list)\n",
    "variance = sum([((x - mean) ** 2) for x in test_list]) / len(test_list)\n",
    "std = variance ** 0.5\n",
    " \n",
    "# Printing result\n",
    "print(\"Standard deviation of sample is : \" + str(std))"
   ]
  },
  {
   "cell_type": "markdown",
   "metadata": {},
   "source": [
    "Q5. How are measures of dispersion such as range, variance, and standard deviation used to describe\n",
    "the spread of a dataset? Provide an example."
   ]
  },
  {
   "cell_type": "markdown",
   "metadata": {},
   "source": [
    "Standard deviation (SD) is the most commonly used measure of dispersion. It is a measure of spread of data about the mean. SD is the square root of sum of squared deviation from the mean divided by the number of observations."
   ]
  },
  {
   "cell_type": "code",
   "execution_count": 30,
   "metadata": {},
   "outputs": [
    {
     "name": "stdout",
     "output_type": "stream",
     "text": [
      "The original list : [6, 7, 3, 9, 10, 15]\n",
      "Standard deviation of sample is : 3.72677996249965\n"
     ]
    }
   ],
   "source": [
    "test_list = [6, 7, 3, 9, 10, 15]\n",
    " \n",
    "# printing list\n",
    "print(\"The original list : \" + str(test_list))\n",
    " \n",
    "# Standard deviation of list\n",
    "# Using sum() + list comprehension\n",
    "mean = sum(test_list) / len(test_list)\n",
    "variance = sum([((x - mean) ** 2) for x in test_list]) / len(test_list)\n",
    "std = variance ** 0.5\n",
    " \n",
    "# Printing result\n",
    "print(\"Standard deviation of sample is : \" + str(std))"
   ]
  },
  {
   "cell_type": "markdown",
   "metadata": {},
   "source": [
    "Variance is a simple measure of dispersion. Variance measures how far each number in the dataset from the mean. \n",
    "variance is a measure of dispersion that takes into account the spread of all data points in a data set."
   ]
  },
  {
   "cell_type": "code",
   "execution_count": 31,
   "metadata": {},
   "outputs": [
    {
     "name": "stdout",
     "output_type": "stream",
     "text": [
      "The original list is : [6, 7, 3, 9, 10, 15]\n",
      "The variance of list is : 13.888888888888891\n"
     ]
    }
   ],
   "source": [
    "test_list = [6, 7, 3, 9, 10, 15]\n",
    " \n",
    "# printing original list\n",
    "print(\"The original list is : \" + str(test_list))\n",
    " \n",
    "# Variance of List\n",
    "# using loop + formula\n",
    "mean = sum(test_list) / len(test_list)\n",
    "res = sum((i - mean) ** 2 for i in test_list) / len(test_list)\n",
    " \n",
    "# printing result\n",
    "print(\"The variance of list is : \" + str(res))"
   ]
  },
  {
   "cell_type": "markdown",
   "metadata": {},
   "source": [
    "The Range is the difference between the largest and the smallest observation in the data. The prime advantage of this measure of dispersion is that it is easy to calculate. On the other hand, it has lot of disadvantages. It is very sensitive to outliers and does not use all the observations in a data set."
   ]
  },
  {
   "cell_type": "code",
   "execution_count": 37,
   "metadata": {},
   "outputs": [
    {
     "name": "stdout",
     "output_type": "stream",
     "text": [
      "The range of list is : 12\n"
     ]
    }
   ],
   "source": [
    "test_list = [6, 7, 3, 9, 10, 15]\n",
    " \n",
    "max_val = max(test_list)\n",
    "min_val = min(test_list)\n",
    "range_value =  max_val-min_val\n",
    "print(\"The range of list is : \" + str(range_value))"
   ]
  },
  {
   "cell_type": "markdown",
   "metadata": {},
   "source": [
    "Q6. What is a Venn diagram?"
   ]
  },
  {
   "cell_type": "markdown",
   "metadata": {},
   "source": [
    "A Venn diagram is an illustration that uses circles to show the relationships among things or finite groups of things. Circles that overlap have a commonality while circles that do not overlap do not share those traits. Venn diagrams help to visually represent the similarities and differences between two concepts."
   ]
  },
  {
   "cell_type": "markdown",
   "metadata": {},
   "source": [
    "Q7. For the two given sets A = (2,3,4,5,6,7) & B = (0,2,6,8,10). Find:\n",
    "    \n",
    "(i) A B\n",
    "\n",
    "(ii) A ⋃ B"
   ]
  },
  {
   "cell_type": "markdown",
   "metadata": {},
   "source": [
    "i) (2,6)\n",
    "ii) (0,2,3,4,5,6,7,8,10)"
   ]
  },
  {
   "cell_type": "markdown",
   "metadata": {},
   "source": [
    "Q8. What do you understand about skewness in data?"
   ]
  },
  {
   "cell_type": "markdown",
   "metadata": {},
   "source": [
    "Skewness is the degree of asymmetry observed in a probability distribution. Skewness is a measurement of the distortion of symmetrical distribution or asymmetry in a data set. Skewness is demonstrated on a bell curve when data points are not distributed symmetrically to the left and right sides of the median on a bell curve.\n",
    "\n",
    "Negative values for the skewness indicate data that are skewed left and positive values for the skewness indicate data that are skewed right. By skewed left, we mean that the left tail is long relative to the right tail. Similarly, skewed right means that the right tail is long relative to the left tail."
   ]
  },
  {
   "cell_type": "markdown",
   "metadata": {},
   "source": [
    "Q9. If a data is right skewed then what will be the position of median with respect to mean?"
   ]
  },
  {
   "cell_type": "markdown",
   "metadata": {},
   "source": [
    "If the distribution of data is skewed to the right, the mode is often less than the median, which is less than the mean.\n",
    "Basically mean is greater than median."
   ]
  },
  {
   "cell_type": "markdown",
   "metadata": {},
   "source": [
    "Q10. Explain the difference between covariance and correlation. How are these measures used in\n",
    "statistical analysis?"
   ]
  },
  {
   "cell_type": "markdown",
   "metadata": {},
   "source": [
    "Both covariance and correlation measure the relationship and the dependency between two variables. Covariance shows you how the two variables differ, whereas correlation shows you how the two variables are related.\n",
    "\n",
    "These measures basically quantify the relationship berween 2 variables.\n",
    "\n",
    "Covariance indicates the direction of linear relationship between variables.The covariance value can range from -∞ to +∞, with a negative value indicating a negative relationship and a positive value indicating a positive relationship. Covariance is an indicator of the extent to which 2 random variables are dependent on each other. A higher number denotes higher dependency.\n",
    "\n",
    "Correlation measures both the strength and direction of the linear relationship between two variables. Correlation is limited to values between the range -1 and +1. Correlation is a statistical measure that indicates how strongly two variables are related. The value of covariance lies in the range of -∞ and +∞"
   ]
  },
  {
   "cell_type": "markdown",
   "metadata": {},
   "source": [
    "Q11. What is the formula for calculating the sample mean? Provide an example calculation for a\n",
    "dataset."
   ]
  },
  {
   "cell_type": "markdown",
   "metadata": {},
   "source": [
    "The general formula for calculating the sample mean is given by x̄ = ( Σ xi ) / n.\n",
    "\n",
    "Here, x̄ represents the sample mean, Σ tells us to add, xi refers to all the X-values and n stands for the number of items in the data set."
   ]
  },
  {
   "cell_type": "markdown",
   "metadata": {},
   "source": [
    "Sample Question: Find the sample mean for the following set of numbers: 12, 13, 14, 16, 17, 40, 43, 55, 56, 67, 78, 78, 79, 80, 81, 90, 99, 101, 102, 304, 306, 400, 401, 403, 404, 405\n",
    "\n",
    "\n",
    "Step 1:Add up all of the numbers:\n",
    "12 + 13 + 14 + 16 + 17 + 40 + 43 + 55 + 56 + 67 + 78 + 78 + 79 + 80 + 81 + 90 + 99 + 101 + 102 + 304 + 306 + 400 + 401 + 403 + 404 + 405 = 3744.\n",
    "\n",
    "Step 2:Count the numbers of items in the data set. In this particular data set there are 26 items.\n",
    "\n",
    "Step 3:Divide the number you found in Step 1 by the number you found in Step 2. 3744/26 = 144.\n"
   ]
  },
  {
   "cell_type": "markdown",
   "metadata": {},
   "source": [
    "Q12. For a normal distribution data what is the relationship between its measure of central tendency?"
   ]
  },
  {
   "cell_type": "markdown",
   "metadata": {},
   "source": [
    "Any normal distribution has a graph that is perfectly symmetric about a vertical line through its peak. Therefore, all measures of central tendency (most commonly, the mean, median, and mode) give the same answer.\n",
    "\n",
    "For a normal or symmetric distribution mean = median = mode\n"
   ]
  },
  {
   "cell_type": "markdown",
   "metadata": {},
   "source": [
    "Q13. How is covariance different from correlation?"
   ]
  },
  {
   "cell_type": "markdown",
   "metadata": {},
   "source": [
    "Covariance shows how the two variables differ, whereas correlation shows you how the two variables are related.\n",
    "\n",
    "Covariance indicates the direction of linear relationship between variables. Covariance is an indicator of the extent to which 2 random variables are dependent on each other. A higher number denotes higher dependency.\n",
    "\n",
    "Correlation measures both the strength and direction of the linear relationship between two variables. Correlation is a statistical measure that indicates how strongly two variables are related."
   ]
  },
  {
   "cell_type": "markdown",
   "metadata": {},
   "source": [
    "Q14. How do outliers affect measures of central tendency and dispersion? Provide an example."
   ]
  },
  {
   "cell_type": "markdown",
   "metadata": {},
   "source": [
    "Outliers affect the mean value of the data but have little effect on the median or mode of a given set of data.\n",
    "\n",
    "The range ( range ) is the difference between the maximum and minimum values in the data, and is strongly influenced by the presence of an outlier."
   ]
  },
  {
   "cell_type": "code",
   "execution_count": null,
   "metadata": {},
   "outputs": [],
   "source": []
  }
 ],
 "metadata": {
  "kernelspec": {
   "display_name": "Python 3",
   "language": "python",
   "name": "python3"
  },
  "language_info": {
   "codemirror_mode": {
    "name": "ipython",
    "version": 3
   },
   "file_extension": ".py",
   "mimetype": "text/x-python",
   "name": "python",
   "nbconvert_exporter": "python",
   "pygments_lexer": "ipython3",
   "version": "3.8.3"
  }
 },
 "nbformat": 4,
 "nbformat_minor": 4
}
