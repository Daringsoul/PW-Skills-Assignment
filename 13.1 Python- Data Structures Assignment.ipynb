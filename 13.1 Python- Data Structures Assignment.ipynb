{
 "cells": [
  {
   "cell_type": "markdown",
   "metadata": {},
   "source": [
    "Q1. How do you comment code in Python? What are the different types of comments?\n"
   ]
  },
  {
   "cell_type": "markdown",
   "metadata": {},
   "source": [
    "Comments in Python are identified with a hash symbol, #"
   ]
  },
  {
   "cell_type": "markdown",
   "metadata": {},
   "source": [
    "In code we comment by giving hash symbol at the start and extend to the end of the line"
   ]
  },
  {
   "cell_type": "markdown",
   "metadata": {},
   "source": [
    "There are three types of comments: single-line, multi-line, and docstring comments."
   ]
  },
  {
   "cell_type": "markdown",
   "metadata": {},
   "source": [
    "1. Single-Line Comments- Ex. # List of numbers\n",
    "\n",
    "\n",
    "2. Multi-Line Comments- Ex. \n",
    "#Python code is\n",
    "#easy to understand \n",
    "#with comments\n",
    "\n",
    "\n",
    "3. Docstrings- \"\"I can write a comment for list of numbers like this\"\""
   ]
  },
  {
   "cell_type": "markdown",
   "metadata": {},
   "source": [
    "Q2. What are variables in Python? How do you declare and assign values to variables?\n",
    "\n",
    "Type of variables in Python:- integer,float,complex,string,boolean,\n",
    "\n",
    "\n",
    "x = 5             #assigning integer value 5 to variable x \n",
    "\n",
    "\n",
    "y = \"John\"        #assigning string \"John\" to variable y\n"
   ]
  },
  {
   "cell_type": "markdown",
   "metadata": {},
   "source": [
    "Q3. How do you convert one data type to another in Python?\n"
   ]
  },
  {
   "cell_type": "code",
   "execution_count": 9,
   "metadata": {},
   "outputs": [
    {
     "name": "stdout",
     "output_type": "stream",
     "text": [
      "<class 'int'>\n",
      "<class 'float'>\n",
      "<class 'int'>\n",
      "<class 'str'>\n"
     ]
    }
   ],
   "source": [
    "a= 5\n",
    "print(type(a))\n",
    "\n",
    "b=float(a)   #changing the data type of variable a\n",
    "print(type(b))\n",
    "\n",
    "c=5\n",
    "print(type(c))\n",
    "\n",
    "d=\"5\"\n",
    "print(type(d))"
   ]
  },
  {
   "cell_type": "markdown",
   "metadata": {},
   "source": [
    "Q4. How do you write and execute a Python script from the command line?"
   ]
  },
  {
   "cell_type": "markdown",
   "metadata": {},
   "source": [
    "The most basic and easy way to run a Python script is by using the python command. One has to open a command line and type the word python followed by the path to the script file like this: \n",
    "\n",
    "python first_script.py Hello World! \n",
    "\n",
    "Then hit the ENTER button from the keyboard, and that's it."
   ]
  },
  {
   "cell_type": "markdown",
   "metadata": {},
   "source": [
    "Q5. Given a list my_list = [1, 2, 3, 4, 5], write the code to slice the list and obtain the sub-list [2, 3].\n"
   ]
  },
  {
   "cell_type": "code",
   "execution_count": 13,
   "metadata": {},
   "outputs": [
    {
     "name": "stdout",
     "output_type": "stream",
     "text": [
      "[2, 3]\n"
     ]
    }
   ],
   "source": [
    "my_list = [1, 2, 3, 4, 5]\n",
    "print(my_list[1:3])"
   ]
  },
  {
   "cell_type": "markdown",
   "metadata": {},
   "source": [
    "Q6. What is a complex number in mathematics, and how is it represented in Python?"
   ]
  },
  {
   "cell_type": "markdown",
   "metadata": {},
   "source": [
    "Complex numbers are the numbers that are expressed in the form of a+ib where, a,b are real numbers and 'i' is an imaginary numbe\n",
    "\n",
    "\n",
    "\n",
    "In python complex numbers are represeneted in the form of (x + yj) where x and y are real numbers and j is an imaginary number. Example. 5+7j"
   ]
  },
  {
   "cell_type": "code",
   "execution_count": 20,
   "metadata": {},
   "outputs": [
    {
     "name": "stdout",
     "output_type": "stream",
     "text": [
      "complex number in python: (5+7j)\n",
      "real part 5.0\n",
      "imaginary part 7.0\n"
     ]
    }
   ],
   "source": [
    "z = complex(5, 7)\n",
    "print(\"complex number in python:\", z)\n",
    "print(\"real part\",z.real)\n",
    "print(\"imaginary part\",z.imag)\n",
    "# Output: (5+7j) "
   ]
  },
  {
   "cell_type": "markdown",
   "metadata": {},
   "source": [
    "Q7. What is the correct way to declare a variable named age and assign the value 25 to it?"
   ]
  },
  {
   "cell_type": "code",
   "execution_count": 22,
   "metadata": {},
   "outputs": [
    {
     "name": "stdout",
     "output_type": "stream",
     "text": [
      "25\n"
     ]
    }
   ],
   "source": [
    "age=25        #declaration of variable age\n",
    "print(age)    #assigning value 25 to variable age"
   ]
  },
  {
   "cell_type": "markdown",
   "metadata": {},
   "source": [
    "Q8. Declare a variable named price and assign the value 9.99 to it. What data type does this variable\n",
    "belong to?"
   ]
  },
  {
   "cell_type": "code",
   "execution_count": 24,
   "metadata": {},
   "outputs": [
    {
     "name": "stdout",
     "output_type": "stream",
     "text": [
      "data typr of price <class 'float'>\n"
     ]
    }
   ],
   "source": [
    "price= 9.99\n",
    "print(\"data type of price\",type(price))"
   ]
  },
  {
   "cell_type": "markdown",
   "metadata": {},
   "source": [
    "Q9. Create a variable named name and assign your full name to it as a string. How would you print the\n",
    "value of this variable?"
   ]
  },
  {
   "cell_type": "code",
   "execution_count": 30,
   "metadata": {},
   "outputs": [
    {
     "name": "stdout",
     "output_type": "stream",
     "text": [
      "abinash pradhan\n",
      "['a', 'b', 'i', 'n', 'a', 's', 'h', ' ', 'p', 'r', 'a', 'd', 'h', 'a', 'n']\n"
     ]
    }
   ],
   "source": [
    "name=\"abinash pradhan\"\n",
    "print(name)\n",
    "print(list(name))"
   ]
  },
  {
   "cell_type": "markdown",
   "metadata": {},
   "source": [
    "Q10. Given the string \"Hello, World!\", extract the substring \"World\".\n"
   ]
  },
  {
   "cell_type": "code",
   "execution_count": 35,
   "metadata": {},
   "outputs": [
    {
     "name": "stdout",
     "output_type": "stream",
     "text": [
      "World\n"
     ]
    }
   ],
   "source": [
    "str1= \"Hello, World!\"      #by string slicing\n",
    "print(str1[7:12])"
   ]
  },
  {
   "cell_type": "markdown",
   "metadata": {},
   "source": [
    "Q11. Create a variable named \"is_student\" and assign it a boolean value indicating whether you are\n",
    "currently a student or not."
   ]
  },
  {
   "cell_type": "code",
   "execution_count": 37,
   "metadata": {},
   "outputs": [
    {
     "name": "stdout",
     "output_type": "stream",
     "text": [
      "False\n",
      "<class 'bool'>\n"
     ]
    }
   ],
   "source": [
    "is_student =False\n",
    "print(is_student)\n",
    "print(type(is_student))\n"
   ]
  }
 ],
 "metadata": {
  "kernelspec": {
   "display_name": "Python 3",
   "language": "python",
   "name": "python3"
  },
  "language_info": {
   "codemirror_mode": {
    "name": "ipython",
    "version": 3
   },
   "file_extension": ".py",
   "mimetype": "text/x-python",
   "name": "python",
   "nbconvert_exporter": "python",
   "pygments_lexer": "ipython3",
   "version": "3.8.3"
  }
 },
 "nbformat": 4,
 "nbformat_minor": 4
}
