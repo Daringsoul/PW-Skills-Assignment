{
 "cells": [
  {
   "cell_type": "markdown",
   "metadata": {},
   "source": [
    "Q1: What are the Probability Mass Function (PMF) and Probability Density Function (PDF)? Explain with\n",
    "an example."
   ]
  },
  {
   "cell_type": "markdown",
   "metadata": {},
   "source": [
    " A probability mass function (pmf) is a function over the sample space of a discrete random variable X which gives the probability that X is equal to a certain value.\n",
    " \n",
    "Example:-\n",
    "Let X be the random variable that shows how many heads are obtained. X can take on the values 0, 1, 2. The probability that X will be equal to 1 is 0.5. Thus, it can be said that the probability mass function of X evaluated at 1 will be 0.5.\n",
    "\n",
    "The Probability Density Function(PDF) defines the probability function representing the density of a continuous random variable lying between a specific range of values. In other words, the probability density function produces the likelihood of values of the continuous random variable. \n",
    "\n",
    "Example:-\n",
    "a probability density function can take on values greater than one; for example, the continuous uniform distribution on the interval [0, 1/2] has probability density f(x) = 2 for 0 ≤ x ≤ 1/2 and f(x) = 0 elsewhere."
   ]
  },
  {
   "cell_type": "markdown",
   "metadata": {},
   "source": [
    "Q2: What is Cumulative Density Function (CDF)? Explain with an example. Why CDF is used?"
   ]
  },
  {
   "cell_type": "markdown",
   "metadata": {},
   "source": [
    "The cumulative distribution function (CDF) calculates the cumulative probability for a given x-value. In other words, the cdf for a continuous random variable is found by integrating the pdf.\n",
    "\n",
    "A cumulative distribution function (CDF) describes the probabilities of a random variable having values less than or equal to x. It is a cumulative function because it sums the total likelihood up to that point. Its output always ranges between 0 and 1. Where X is the random variable, and x is a specific value.\n",
    "\n",
    "The CDF gives us the probability that the random variable X is less than or equal to x. These functions are non-decreasing. As x increases, the likelihood can either increase or stay constant, but it can’t decrease.\n",
    "\n",
    "\n",
    "Cumulative distribution functions are excellent for providing probabilities that the next observation will be less than or equal to the value you specify. This ability can help you make decisions that incorporate uncertainty.It is used to describe the probability distribution of random variables in a table.\n",
    "\n",
    "Using the CDF to determine the probability that a random observation that is taken from the population will be less than or equal to a certain value. You can also use this information to determine the probability that an observation will be greater than a certain value, or between two values."
   ]
  },
  {
   "cell_type": "markdown",
   "metadata": {},
   "source": [
    "Q3: What are some examples of situations where the normal distribution might be used as a model?\n",
    "Explain how the parameters of the normal distribution relate to the shape of the distribution."
   ]
  },
  {
   "cell_type": "markdown",
   "metadata": {},
   "source": [
    "For example, heights, blood pressure, measurement error, and IQ scores follow the normal distribution.\n",
    "These can be used as a model.\n",
    "\n",
    "The two main parameters of a (normal) distribution are the mean and standard deviation. The parameters determine the shape and probabilities of the distribution. The shape of the distribution changes as the parameter values change.\n",
    "\n",
    "The standard deviation is the measure of how spread out a normally distributed set of data is. It is a statistic that tells us how closely all of the examples are gathered around the mean in a data set. The shape of a normal distribution is determined by the mean and the standard deviation.\n",
    "\n",
    "The standard deviation affects the shape such that the larger the σ, the wider the shape. The standard deviation determines the width of the curve, and it tightens or expands the width of the distribution along the x-axis. Typically, a small standard deviation relative to the mean produces a steep curve, while a large standard deviation relative to the mean produces a flatter curve.\n",
    "\n",
    "Any changes made to the value of the mean move the curve either to the left or right along the X-axis.The distribution becomes left or right skewed if we change the mean."
   ]
  },
  {
   "cell_type": "markdown",
   "metadata": {},
   "source": [
    "Q4: Explain the importance of Normal Distribution. Give a few real-life examples of Normal\n",
    "Distribution."
   ]
  },
  {
   "cell_type": "markdown",
   "metadata": {},
   "source": [
    "The normal distribution is important because it can be used to approximate other types of probability distribution, such as binomial, hypergeometric, inverse (or negative) hypergeometric, negative binomial and Poisson distribution.\n",
    "\n",
    "A normal distribution is a statistical phenomenon representing a symmetric bell-shaped curve. Most values are located near the mean; also, only a few appear at the left and right tails. It follows the empirical rule or the 68-95-99.7 rule\n",
    "\n",
    "The mean, median, and mode are equal for a normal distribution.\n",
    "\n",
    "It has one of the important properties called central theorem. Central theorem means relationship between shape of population distribution and shape of sampling distribution of mean. This means that sampling distribution of mean approaches normal as sample size increase.\n",
    "\n",
    "In case the sample size is large the normal distribution serves as good approximation.The whole theory of sample tests t, f and chi-square test is based on the normal distribution.\n",
    "\n",
    "Measures of reading ability, introversion, Height of people,job satisfaction, and memory are among the many psychological variables approximately normally distributed."
   ]
  },
  {
   "cell_type": "markdown",
   "metadata": {},
   "source": [
    "Q5: What is Bernaulli Distribution? Give an Example. What is the difference between Bernoulli\n",
    "Distribution and Binomial Distribution?"
   ]
  },
  {
   "cell_type": "markdown",
   "metadata": {},
   "source": [
    "Bernoulli distribution is a discrete probability distribution. It describes the probability of achieving a “success” or “failure” from a Bernoulli trial. A Bernoulli trial is an event that has only two possible outcomes (success or failure).\n",
    "\n",
    "A discrete probability distribution wherein the random variable can only have 2 possible outcomes is known as a Bernoulli Distribution.\n",
    "\n",
    "Some examples of such events are as follows:\n",
    "a team will win a championship or not, a student will pass or fail an exam, and a rolled dice will either show a 6 or any other number.\n",
    "\n",
    "The Bernoulli distribution represents the success or failure of a single Bernoulli trial. This Brnoulli distribution deals with the data which only has 1 trial & only 2 possible outcomes.The Binomial Distribution represents the number of successes and failures in n independent Bernoulli trials for some given value of n.\n",
    "\n",
    "In the case of the Bernoulli trial, there are only two possible outcomes. But, in the case of the binomial distribution, we get the number of successes in a sequence of independent experiments.\n",
    "\n",
    "Binomial VS Bernoulli Keypoints:----->>>>\n",
    "\n",
    "Bernoulli deals with the outcome of the single trial of the event, whereas Binomial deals with the outcome of the multiple trials of the single event. Bernoulli is used when the outcome of an event is required for only one time, whereas the Binomial is used when the outcome of an event is required multiple times."
   ]
  },
  {
   "cell_type": "markdown",
   "metadata": {},
   "source": [
    "Q6. Consider a dataset with a mean of 50 and a standard deviation of 10. If we assume that the dataset\n",
    "is normally distributed, what is the probability that a randomly selected observation will be greater\n",
    "than 60? Use the appropriate formula and show your calculations."
   ]
  },
  {
   "cell_type": "markdown",
   "metadata": {},
   "source": [
    "mean=50\n",
    "standard deviation=10\n",
    "\n",
    "z= (x-mean)/standard deviation\n",
    "\n",
    "z=(60-50)/10=1\n",
    "\n",
    "Area to the left is 0.8413. (from z table)\n",
    "\n",
    "P(x > 60) = P(z > 1)=1 – 0.8413= 0.1587\n",
    "\n",
    "the probability that a randomly selected observation will be greater than 60 is 0.1587."
   ]
  },
  {
   "cell_type": "markdown",
   "metadata": {},
   "source": [
    "Q7: Explain uniform Distribution with an example."
   ]
  },
  {
   "cell_type": "markdown",
   "metadata": {},
   "source": [
    "uniform distribution refers to a type of probability distribution in which all outcomes are equally likely. A deck of cards has within it uniform distributions because the likelihood of drawing a heart, a club, a diamond, or a spade is equally likely.Example - the possible outcomes of rolling a 6-sided die.\n",
    "\n",
    "The uniform distribution defines equal probability over a given range for a continuous distribution. For this reason, it is important as a reference distribution. One of the most important applications of the uniform distribution is in the generation of random numbers.\n",
    "\n",
    "A continuous probability distribution is a Uniform distribution and is related to the events which are equally likely to occur. It is defined by two parameters, x and y, where x = minimum value and y = maximum value. It is generally denoted by u(x, y)."
   ]
  },
  {
   "cell_type": "markdown",
   "metadata": {},
   "source": [
    "Q8: What is the z score? State the importance of the z score."
   ]
  },
  {
   "cell_type": "markdown",
   "metadata": {},
   "source": [
    "A z-score is a statistical measurement that tells you how far away from the mean (or average) your datum lies in a normally distributed sample.The Z-score, or standard score, is the number of standard deviations a given data point lies above or below mean. \n",
    "\n",
    "The statistical formula for a value's z-score is calculated using the following formula:\n",
    "\n",
    "z = ( x - μ ) / σ\n",
    "\n",
    " A z-score is important because it tells us where our data lies in the data distribution. For example, if a z-score is 1.5, it is 1.5 standard deviations away from the mean.\n",
    " \n",
    "z-score is a very useful statistic because it \n",
    "\n",
    "(a) allows us to calculate the probability of a score occurring within our normal distribution and \n",
    "\n",
    "(b) enables us to compare two scores that are from different normal distributions."
   ]
  },
  {
   "cell_type": "markdown",
   "metadata": {},
   "source": [
    "Q9: What is Central Limit Theorem? State the significance of the Central Limit Theorem."
   ]
  },
  {
   "cell_type": "markdown",
   "metadata": {},
   "source": [
    "Central Limit Theorem- the sampling distribution of the mean will always be normally distributed , as long as the sample size is large enough.\n",
    "\n",
    "The central limit theorem is useful when analyzing large data sets because it allows one to assume that the sampling distribution of the mean will be normally-distributed in most cases. This allows for easier statistical analysis and inference. \n",
    "\n",
    "For example, investors can use central limit theorem to aggregate individual security performance data and generate distribution of sample means that represent a larger population distribution for security returns over a period of time.\n"
   ]
  },
  {
   "cell_type": "markdown",
   "metadata": {},
   "source": [
    "Q10: State the assumptions of the Central Limit Theorem."
   ]
  },
  {
   "cell_type": "markdown",
   "metadata": {},
   "source": [
    "1. The data must adhere to the randomization rule. It needs to be sampled at random.\n",
    "2. The samples should be unrelated to one another. One sample should not impact the others.\n",
    "3. When taking samples without replacement, the sample size should not exceed 10% of the population.\n",
    "4. When the population is symmetric, a sample size of 30 is generally considered reasonable."
   ]
  }
 ],
 "metadata": {
  "kernelspec": {
   "display_name": "Python 3",
   "language": "python",
   "name": "python3"
  },
  "language_info": {
   "codemirror_mode": {
    "name": "ipython",
    "version": 3
   },
   "file_extension": ".py",
   "mimetype": "text/x-python",
   "name": "python",
   "nbconvert_exporter": "python",
   "pygments_lexer": "ipython3",
   "version": "3.8.3"
  }
 },
 "nbformat": 4,
 "nbformat_minor": 4
}
