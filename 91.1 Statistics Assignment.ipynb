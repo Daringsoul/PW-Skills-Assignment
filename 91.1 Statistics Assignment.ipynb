{
 "cells": [
  {
   "cell_type": "markdown",
   "metadata": {},
   "source": [
    "Q1. What is Statistics?"
   ]
  },
  {
   "cell_type": "markdown",
   "metadata": {},
   "source": [
    "Statistics is a branch of applied mathematics that involves the collection, description, analysis, and inference of conclusions from quantitative data. \n",
    "\n",
    "It is basically facts and pieces of information."
   ]
  },
  {
   "cell_type": "markdown",
   "metadata": {},
   "source": [
    "Q2. Define the different types of statistics and give an example of when each type might be used."
   ]
  },
  {
   "cell_type": "markdown",
   "metadata": {},
   "source": [
    "Types of statistics:\n",
    "1. Descriptive- organizing and summarizing the data . It is used to summarize the attributes of a sample in such a way that a pattern can be drawn from the group. \n",
    "\n",
    "Examples:- The mean score on a certain exam. The standard deviation of scores on a certain exam. The range of scores on a certain exam.\n",
    "\n",
    "2. Inferential- data to form and lind of conclusion. Inferential statistics is a branch of statistics that is used to make inferences about the population by analyzing a sample. When the population data is very large it becomes difficult to use it. In such cases, certain samples are taken that are representative of the entire population.\n",
    "\n",
    "Examples:- Sampling strategies such as simple random sampling, cluster sampling, stratified sampling, and systematic sampling, need to be used in order to choose correct samples from the population.\n"
   ]
  },
  {
   "cell_type": "markdown",
   "metadata": {},
   "source": [
    "Q3. What are the different types of data and how do they differ from each other? Provide an example of\n",
    "each type of data."
   ]
  },
  {
   "cell_type": "markdown",
   "metadata": {},
   "source": [
    "There ars 2 types of data:\n",
    "    1. Quantitative:-this is basically numerical data which has been splitted into 2 categories\n",
    "        a) Discrete:whole number, Childrens in family,total students in a class\n",
    "        b) Continuous:any value. Height, weight, temperature and length\n",
    "    \n",
    "    \n",
    "    \n",
    "    2. Qualitative:- this is basically categorical data which has been splitted into 2 categories:\n",
    "        a) Nominal:Gender,Blood group\n",
    "        b) Ordinal:customer feedback(Good,Bad,Better)"
   ]
  },
  {
   "cell_type": "markdown",
   "metadata": {},
   "source": [
    "Q4. Categorise the following datasets with respect to quantitative and qualitative data types:\n",
    "\n",
    "(i) Grading in exam: A+, A, B+, B, C+, C, D, E\n",
    "\n",
    "(ii) Colour of mangoes: yellow, green, orange, red\n",
    "\n",
    "(iii) Height data of a class: [178.9, 179, 179.5, 176, 177.2, 178.3, 175.8,...]\n",
    "\n",
    "(iv) Number of mangoes exported by a farm: [500, 600, 478, 672, ...]"
   ]
  },
  {
   "cell_type": "markdown",
   "metadata": {},
   "source": [
    "(i) Grading in exam: A+, A, B+, B, C+, C, D, E  ------>>>>qualitative data\n",
    "\n",
    "(ii) Colour of mangoes: yellow, green, orange, red  -------------->>>qualitative\n",
    "\n",
    "(iii) Height data of a class: [178.9, 179, 179.5, 176, 177.2, 178.3, 175.8,...]----------->>>>quantitaive\n",
    "\n",
    "(iv) Number of mangoes exported by a farm: [500, 600, 478, 672, ...]----------->>>>quantitative"
   ]
  },
  {
   "cell_type": "markdown",
   "metadata": {},
   "source": [
    "Q5. Explain the concept of levels of measurement and give an example of a variable for each level."
   ]
  },
  {
   "cell_type": "markdown",
   "metadata": {},
   "source": [
    "there are basically 4 levels of measurement:\n",
    "nominal,ordinal,iterval,ratio\n",
    "\n",
    "Examples of interval level data include temperature and year\n",
    "\n",
    "Examples of ratio level data include distance and area (e.g., acreage)\n",
    "\n",
    "Examples of nominal level data include gender,Blood group, hair color, nationalities, names of people\n",
    "\n",
    "Examples of ordinal level data include customer feedback,first, second, and third places in a race,socio economic status (“low income”,”middle income”,”high income”,education level (“high school”,”BS”,”MS”,”PhD”)"
   ]
  },
  {
   "cell_type": "markdown",
   "metadata": {},
   "source": [
    "Q6. Why is it important to understand the level of measurement when analyzing data? Provide an\n",
    "example to illustrate your answer."
   ]
  },
  {
   "cell_type": "markdown",
   "metadata": {},
   "source": [
    "It is important to understand the level of measurement of variables before analyzing the available data, because the level of measurement determines the type of statistical analysis that can be conducted, and, therefore, the type of conclusions that can be drawn from the available data.\n",
    "\n",
    "\n",
    "Example of a variable at 2 levels of measurement\n",
    "\n",
    "We can measure the variable of income at an ordinal or ratio level.\n",
    "\n",
    "Ordinal level: We create brackets of income ranges: $0–$19,999, $20,000–$39,999, and $40,000–$59,999.\n",
    "We ask participants to select the bracket that represents their annual income. \n",
    "The brackets are coded with numbers from 1–3.\n",
    "\n",
    "Ratio level: We collect data on the exact annual incomes of your participants.\n",
    "Participant\tIncome (ordinal level)\tIncome (ratio level).\n",
    "\n",
    "A\tBracket 1\t$12,550\n",
    "\n",
    "B\tBracket 2\t$39,700\n",
    "\n",
    "C\tBracket 3\t$40,300\n",
    "\n",
    "At a ratio level, you can see that the difference between A and B’s incomes is far greater than the difference between B and C’s incomes.\n",
    "\n",
    "At an ordinal level, however, you only know the income bracket for each participant, not their exact income. Since you cannot say exactly how much each income differs from the others in your data set, you can only order the income levels and group the participants."
   ]
  },
  {
   "cell_type": "markdown",
   "metadata": {},
   "source": [
    "Q7. How nominal data type is different from ordinal data type."
   ]
  },
  {
   "cell_type": "markdown",
   "metadata": {},
   "source": [
    "While Nominal Data is classified without any intrinsic ordering or rank, Ordinal Data has some predetermined or natural order.\n",
    "\n",
    "Nominal data is used to categorize data into mutually exclusive categories or groups. \n",
    "Ordinal data is used to measure variables in a natural order, such as rating or ranking."
   ]
  },
  {
   "cell_type": "markdown",
   "metadata": {},
   "source": [
    "Q8. Which type of plot can be used to display data in terms of range?"
   ]
  },
  {
   "cell_type": "markdown",
   "metadata": {},
   "source": [
    "Range bar charts, data points are built starting from the minimum values. As a result, each bar shows the difference between the maximum and minimum values in each corresponding category.\n",
    "\n",
    "\n",
    "A histogram is another type of bar graph that illustrates the distribution of numeric data across categories."
   ]
  },
  {
   "cell_type": "markdown",
   "metadata": {},
   "source": [
    "Q9. Describe the difference between descriptive and inferential statistics. Give an example of each\n",
    "type of statistics and explain how they are used."
   ]
  },
  {
   "cell_type": "markdown",
   "metadata": {},
   "source": [
    "Descriptive statistics - organizing and summarizing the data . It is used to summarize the attributes of a sample in such a way that a pattern can be drawn from the group. \n",
    "\n",
    "Examples:- The mean score on a certain exam. The standard deviation of scores on a certain exam. The range of scores on a certain exam.\n",
    "\n",
    "Inferential statistics- data to form and lind of conclusion. Inferential statistics is a branch of statistics that is used to make inferences about the population by analyzing a sample. When the population data is very large it becomes difficult to use it. In such cases, certain samples are taken that are representative of the entire population.\n",
    "\n",
    "Examples:- Sampling strategies such as simple random sampling, cluster sampling, stratified sampling, and systematic sampling, need to be used in order to choose correct samples from the population.\n",
    "\n",
    "We randomly select a sample of 11th graders in our state and collect data on their SAT scores and other characteristics. You can use inferential statistics to make estimates and test hypothesis about the whole population of 11th graders in the state based on your sample data."
   ]
  },
  {
   "cell_type": "markdown",
   "metadata": {},
   "source": [
    "Q10. What are some common measures of central tendency and variability used in statistics? Explain\n",
    "how each measure can be used to describe a dataset."
   ]
  },
  {
   "cell_type": "markdown",
   "metadata": {},
   "source": [
    "Th ecommon measures of central tendency used in statistics are:\n",
    "1. Mean--->>>\n",
    "Mean is the average of the given numbers and is calculated by dividing the sum of given numbers by the total number of numbers. It is impacted by outliers.\n",
    "\n",
    "2. Medain----->>>\n",
    "The median is the value in the middle of a data set, meaning that 50% of data points have a value smaller or equal to the median and 50% of data points have a value higher or equal to the median. Median is very less impacted by outliers.\n",
    "\n",
    "3. Mode------>>>>>\n",
    "The mode in statistics refers to a number in a set of numbers that appears the most often.\n",
    "For example, if a set of numbers contained the following digits 1, 1, 3, 5, 6, 6, 7, 7, 7, 8, the mode would be 7, as it appears the most out of all the numbers in the set."
   ]
  },
  {
   "cell_type": "markdown",
   "metadata": {},
   "source": [
    "Variability (also called spread or dispersion) refers to how spread out a set of data is. Variability gives you a way to describe how much data sets vary and allows you to use statistics to compare your data to other sets of data. The four main ways to describe variability in a data set are:\n",
    "\n",
    "range--->\n",
    "The range is the amount between your smallest and largest item in the set. We can find the range by subtracting the smallest number from the largest. For example, let’s say I earned $250 one week, $30 the following week and $800 the third week. The range for your pay (i.e. how much it varies) is $30 to $800.\n",
    "\n",
    "Interquartile range------->\n",
    "The interquartile range is almost the same as the range, only instead of stating the range for the whole data set, we are giving the amount for the “middle fifty“. It’s sometimes more useful than the range because it tells us where most of your values lie. The formula is IQR = Q3 – Q1, where Q3 is the third quartile and Q1 is the first quartile. We are basically taking one of the smallest values (at the 25th percentile) and subtracting it from one of the largest values (at the 75th percentile).\n",
    "\n",
    "Variance--------->\n",
    "The variance of a data set gives us a rough idea of how spread out our data is. A small number for the variance means your data set is tightly clustered together and a large number means the values are more spread apart. The variance is rarely useful except to calculate the standard deviation.\n",
    "\n",
    "Standard deviation----->>\n",
    "The standard deviation tells us how tightly our data is clustered around the mean (the average). A small SD indicates that the data is tightly clustered — we will also have a taller bell curve; a large SD tells us that our data is more spread apart."
   ]
  },
  {
   "cell_type": "code",
   "execution_count": null,
   "metadata": {},
   "outputs": [],
   "source": []
  }
 ],
 "metadata": {
  "kernelspec": {
   "display_name": "Python 3",
   "language": "python",
   "name": "python3"
  },
  "language_info": {
   "codemirror_mode": {
    "name": "ipython",
    "version": 3
   },
   "file_extension": ".py",
   "mimetype": "text/x-python",
   "name": "python",
   "nbconvert_exporter": "python",
   "pygments_lexer": "ipython3",
   "version": "3.8.3"
  }
 },
 "nbformat": 4,
 "nbformat_minor": 4
}
