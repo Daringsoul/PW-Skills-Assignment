{
 "cells": [
  {
   "cell_type": "markdown",
   "metadata": {},
   "source": [
    "Q1. Explain with an example each when to use a for loop and a while loop."
   ]
  },
  {
   "cell_type": "markdown",
   "metadata": {},
   "source": [
    "For Loop: \n",
    "A for loop is an iteration method that is best used when we know the number of iterations ahead of time. It’s always followed by the initialization, expression and increment statements.\n",
    "\n",
    "Example:\n",
    "for x in range(2, 30, 3):\n",
    "    print(x)\n",
    "    \n",
    "    \n",
    "While Loop: \n",
    "A while loop is an iteration method that is best used when we don't know the number of iterations ahead of time. The contents of the loop are executed as long as the expression evaluates to true.\n",
    "\n",
    "Example:\n",
    "i = 1\n",
    "while i < 6:\n",
    "    print(i)\n",
    "    i += 1"
   ]
  },
  {
   "cell_type": "markdown",
   "metadata": {},
   "source": [
    "Q2. Write a python program to print the sum and product of the first 10 natural numbers using for\n",
    "and while loop."
   ]
  },
  {
   "cell_type": "markdown",
   "metadata": {},
   "source": [
    "using for loop:\n",
    "for_sum = 0\n",
    "for i in range(0,10+1):\n",
    "    for_sum= for_sum+i\n",
    "print(\"Sum of 1st 10 natural numbers:\",for_sum)\n",
    "\n",
    "for_product = 1\n",
    "for i in range(1,10+1):\n",
    "    for_product= for_product*i\n",
    "print(\"Product of 1st 10 natural numbers:\",for_product)\n",
    "\n",
    "using while loop:\n",
    "while_sum=0\n",
    "i = 1\n",
    "while i < 11:\n",
    "    while_sum = while_sum+i\n",
    "    i += 1\n",
    "print(\"Sum of 1st 10 natural numbers:\",while_sum)\n",
    "\n",
    "while_product=1\n",
    "i = 1\n",
    "while i < 11:\n",
    "    while_product = while_product*i\n",
    "    i += 1\n",
    "print(\"Product of 1st 10 natural numbers:\",while_product)"
   ]
  },
  {
   "cell_type": "markdown",
   "metadata": {},
   "source": [
    "Q3. Create a python program to compute the electricity bill for a household.\n",
    "The per-unit charges in rupees are as follows: For the first 100 units, the user will be charged Rs. 4.5 per\n",
    "unit, for the next 100 units, the user will be charged Rs. 6 per unit, and for the next 100 units, the user will\n",
    "be charged Rs. 10 per unit, After 300 units and above the user will be charged Rs. 20 per unit.\n",
    "\n",
    "\n",
    "You are required to take the units of electricity consumed in a month from the user as input.\n",
    "\n",
    "Your program must pass this test case: when the unit of electricity consumed by the user in a month is\n",
    "310, the total electricity bill should be 2250."
   ]
  },
  {
   "cell_type": "code",
   "execution_count": 66,
   "metadata": {},
   "outputs": [
    {
     "name": "stdout",
     "output_type": "stream",
     "text": [
      "please enter the number of units of electricity consumed in a month:310\n",
      "\n",
      "Total Electicity bill =2250.00 \n"
     ]
    }
   ],
   "source": [
    "units=int(input(\"please enter the number of units of electricity consumed in a month:\"))\n",
    "if(units<=100):\n",
    "    payAmount=units*4.5\n",
    "\n",
    "elif(units<=200):\n",
    "    payAmount=(100*4.5)+(units-100)*6\n",
    "    \n",
    "elif(units<=300):\n",
    "    payAmount=(100*4.5)+(200-100)*6+(units-200)*10\n",
    "    \n",
    "elif(units>300):\n",
    "    payAmount=(100*4.5)+(200-100)*6+(300-200)*10+(units-300)*20\n",
    "    \n",
    "else:\n",
    "    payAmount=0\n",
    "    \n",
    "Total=payAmount;\n",
    "print(\"\\nTotal Electicity bill =%.2f\" %Total)"
   ]
  },
  {
   "cell_type": "markdown",
   "metadata": {},
   "source": [
    "Q4. Create a list of numbers from 1 to 100. Use for loop and while loop to calculate the cube of each\n",
    "number and if the cube of that number is divisible by 4 or 5 then append that number in a list and print\n",
    "that list."
   ]
  },
  {
   "cell_type": "code",
   "execution_count": 53,
   "metadata": {},
   "outputs": [
    {
     "name": "stdout",
     "output_type": "stream",
     "text": [
      "cube of number divisuble by 4 or 5 [8, 64, 125, 216, 512, 1000, 1728, 2744, 3375, 4096, 5832, 8000, 10648, 13824, 15625, 17576, 21952, 27000, 32768, 39304, 42875, 46656, 54872, 64000, 74088, 85184, 91125, 97336, 110592, 125000, 140608, 157464, 166375, 175616, 195112, 216000, 238328, 262144, 274625, 287496, 314432, 343000, 373248, 405224, 421875, 438976, 474552, 512000, 551368, 592704, 614125, 636056, 681472, 729000, 778688, 830584, 857375, 884736, 941192, 1000000]\n"
     ]
    }
   ],
   "source": [
    "final_list = []\n",
    "for i in range(1,101):\n",
    "    cube = i*i*i\n",
    "    if ((cube%4) ==0 or (cube%5)==0):\n",
    "        final_list.append(cube)\n",
    "print(\"cube of number divisuble by 4 or 5\",final_list)"
   ]
  },
  {
   "cell_type": "markdown",
   "metadata": {},
   "source": [
    "Q5. Write a program to filter count vowels in the below-given string.\n",
    "\n",
    "string = \"I want to become a data scientist\""
   ]
  },
  {
   "cell_type": "code",
   "execution_count": 56,
   "metadata": {},
   "outputs": [
    {
     "name": "stdout",
     "output_type": "stream",
     "text": [
      "Number of vowels are:\n",
      "12\n"
     ]
    }
   ],
   "source": [
    "string=\"I want to become a data scientist\"\n",
    "vowels=0\n",
    "for i in string:\n",
    "      if(i=='a' or i=='e' or i=='i' or i=='o' or i=='u' or i=='A' or i=='E' or i=='I' or i=='O' or i=='U'):\n",
    "            vowels=vowels+1\n",
    "print(\"Number of vowels are:\")\n",
    "print(vowels)"
   ]
  },
  {
   "cell_type": "code",
   "execution_count": null,
   "metadata": {},
   "outputs": [],
   "source": []
  }
 ],
 "metadata": {
  "kernelspec": {
   "display_name": "Python 3",
   "language": "python",
   "name": "python3"
  },
  "language_info": {
   "codemirror_mode": {
    "name": "ipython",
    "version": 3
   },
   "file_extension": ".py",
   "mimetype": "text/x-python",
   "name": "python",
   "nbconvert_exporter": "python",
   "pygments_lexer": "ipython3",
   "version": "3.8.3"
  }
 },
 "nbformat": 4,
 "nbformat_minor": 4
}
