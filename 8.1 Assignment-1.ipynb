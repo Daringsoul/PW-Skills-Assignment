{
 "cells": [
  {
   "cell_type": "markdown",
   "metadata": {},
   "source": [
    "Q1. Create one variable containing following type of data:\n",
    "\n",
    "(i) string\n",
    "\n",
    "(ii) list\n",
    "\n",
    "(iii) float\n",
    "\n",
    "(iv) tuple"
   ]
  },
  {
   "cell_type": "code",
   "execution_count": 6,
   "metadata": {},
   "outputs": [
    {
     "name": "stdout",
     "output_type": "stream",
     "text": [
      "<class 'str'>\n",
      "<class 'list'>\n",
      "<class 'float'>\n",
      "<class 'tuple'>\n"
     ]
    }
   ],
   "source": [
    "#variable containing string data type\n",
    "s= \"Abinash\"\n",
    "print(type(s))\n",
    "\n",
    "#variable containing list data type\n",
    "l= [1,4,2,4,5,7]\n",
    "print(type(l))\n",
    "\n",
    "#variable containing float data type\n",
    "f= 3.789\n",
    "print(type(f))\n",
    "\n",
    "#variable containing tuple data type\n",
    "t= (1,7,3,5)\n",
    "print(type(t))"
   ]
  },
  {
   "cell_type": "markdown",
   "metadata": {},
   "source": [
    "Q2. Given are some following variables containing data:\n",
    "\n",
    "(i) var1 = ‘ ‘\n",
    "\n",
    "(ii) var2 = ‘[ DS , ML , Python]’\n",
    "\n",
    "(iii) var3 = [ ‘DS’ , ’ML’ , ‘Python’ ]\n",
    "\n",
    "(iv) var4 = 1.\n",
    "\n",
    "What will be the data type of the above given variable.\n"
   ]
  },
  {
   "cell_type": "code",
   "execution_count": 12,
   "metadata": {},
   "outputs": [
    {
     "name": "stdout",
     "output_type": "stream",
     "text": [
      "data type of var1 <class 'str'>\n",
      "data type of var2 <class 'str'>\n",
      "data type of var3 <class 'list'>\n",
      "data type of var4 <class 'float'>\n"
     ]
    }
   ],
   "source": [
    "var1 = ' '\n",
    "print(\"data type of var1\",type(var1))\n",
    "\n",
    "var2 = '[ DS , ML , Python]'\n",
    "print(\"data type of var2\",type(var2))\n",
    "\n",
    "var3 = [ 'DS' , 'ML' , 'Python' ]\n",
    "print(\"data type of var3\",type(var3))\n",
    "\n",
    "var4 = 1.\n",
    "print(\"data type of var4\",type(var4))"
   ]
  },
  {
   "cell_type": "markdown",
   "metadata": {},
   "source": [
    "Q3. Explain the use of the following operators using an example:\n",
    "\n",
    "(i) /\n",
    "(ii) %\n",
    "(iii) //\n",
    "(iv) **\n"
   ]
  },
  {
   "cell_type": "code",
   "execution_count": 17,
   "metadata": {},
   "outputs": [
    {
     "name": "stdout",
     "output_type": "stream",
     "text": [
      "the result of division operator is 1.6666666666666667\n",
      "the result of Modulo division operator is 2\n",
      "the result of floor division operator is 2\n",
      "the result of power operator is 64\n"
     ]
    }
   ],
   "source": [
    "#division operator\n",
    "#Divides the number on its left by the number on its right and returns a floating point value.\n",
    "a=5/3\n",
    "print(\"the result of division operator is\",a)\n",
    "\n",
    "#Modulo division operator\n",
    "#returns remainder of a division\n",
    "b= 17%3\n",
    "print(\"the result of Modulo division operator is\",b)\n",
    "\n",
    "#floor division\n",
    "#Divides the number on its left by the number on its right, rounds down the answer, and returns a whole number.\n",
    "c= 7//3\n",
    "print(\"the result of floor division operator is\",b)\n",
    "\n",
    "#exponen operator\n",
    "#raises a number to the required power\n",
    "d= 4**3\n",
    "print(\"the result of power operator is\",d)"
   ]
  },
  {
   "cell_type": "markdown",
   "metadata": {},
   "source": [
    "Q4. Create a list of length 10 of your choice containing multiple types of data. Using for loop print the\n",
    "element and its data type."
   ]
  },
  {
   "cell_type": "code",
   "execution_count": 28,
   "metadata": {},
   "outputs": [
    {
     "name": "stdout",
     "output_type": "stream",
     "text": [
      "1 <class 'int'>\n",
      "4 <class 'int'>\n",
      "5 <class 'int'>\n",
      "6 <class 'int'>\n",
      "7 <class 'int'>\n",
      "a <class 'str'>\n",
      "ds <class 'str'>\n",
      "0.674 <class 'float'>\n",
      "3.23 <class 'float'>\n",
      "3 <class 'int'>\n"
     ]
    }
   ],
   "source": [
    "x= [1,4,5,6,7,\"a\",\"ds\",0.674,3.23,3]\n",
    "for i in x:\n",
    "    print(i,type(i))"
   ]
  },
  {
   "cell_type": "markdown",
   "metadata": {},
   "source": [
    "Q5. Using a while loop, verify if the number A is purely divisible by number B and if so then how many\n",
    "times it can be divisible."
   ]
  },
  {
   "cell_type": "code",
   "execution_count": 20,
   "metadata": {},
   "outputs": [
    {
     "name": "stdout",
     "output_type": "stream",
     "text": [
      "3 divides 99 for 2 times\n"
     ]
    }
   ],
   "source": [
    "A=99\n",
    "B=3\n",
    "C=A\n",
    "count=0\n",
    "\n",
    "while A%B==0:\n",
    "    count=count+1\n",
    "    A=A/B\n",
    "\n",
    "if count>0:\n",
    "    print(f'{B} divides {C} for {count} times')\n",
    "else:\n",
    "    print(f'{B} doesnot divide {C}')"
   ]
  },
  {
   "cell_type": "markdown",
   "metadata": {},
   "source": [
    "Q6. Create a list containing 25 int type data. Using for loop and if-else condition print if the element is\n",
    "divisible by 3 or not."
   ]
  },
  {
   "cell_type": "code",
   "execution_count": 38,
   "metadata": {},
   "outputs": [
    {
     "name": "stdout",
     "output_type": "stream",
     "text": [
      "list containing random 25 integers [504, 181, 623, 453, 255, 511, 739, 181, 533, 289]\n",
      "504 is divisible by 3\n",
      "181 is not divisible by 3\n",
      "623 is not divisible by 3\n",
      "453 is divisible by 3\n",
      "255 is divisible by 3\n",
      "511 is not divisible by 3\n",
      "739 is not divisible by 3\n",
      "181 is not divisible by 3\n",
      "533 is not divisible by 3\n",
      "289 is not divisible by 3\n"
     ]
    }
   ],
   "source": [
    "import random\n",
    "rand_list=[]\n",
    "n=10\n",
    "for i in range(n):\n",
    "    rand_list.append(random.randint(2,1000))\n",
    "print(\"list containing random 25 integers\",rand_list)\n",
    "\n",
    "\n",
    "for j in rand_list:\n",
    "    if (j%3==0):\n",
    "        print(j,\"is divisible by 3\")\n",
    "    else:\n",
    "        print(j,\"is not divisible by 3\")\n",
    "    "
   ]
  },
  {
   "cell_type": "markdown",
   "metadata": {},
   "source": [
    "Q7. What do you understand about mutable and immutable data types? Give examples for both showing\n",
    "this property."
   ]
  },
  {
   "cell_type": "markdown",
   "metadata": {},
   "source": [
    "mutable- we can modify the already existing values of the data types (such as lists, dictionaries, etc.). we can also add new values or remove the existing values from our data types. Basically, we can perform any operation with our data without having to create a new copy of our data type.\n",
    "\n",
    "Examples- List, Sets, and Dictionary are examples of some mutable data types in Python.\n",
    "\n",
    "\n",
    "immutable- are those that does not allow to change their value or data in place without affecting the object's identity.Immutable datatypes are objects that cannot be modified or altered after they have been created.\n",
    "\n",
    "Examples- Strings and Tuples are immutable"
   ]
  }
 ],
 "metadata": {
  "kernelspec": {
   "display_name": "Python 3",
   "language": "python",
   "name": "python3"
  },
  "language_info": {
   "codemirror_mode": {
    "name": "ipython",
    "version": 3
   },
   "file_extension": ".py",
   "mimetype": "text/x-python",
   "name": "python",
   "nbconvert_exporter": "python",
   "pygments_lexer": "ipython3",
   "version": "3.8.3"
  }
 },
 "nbformat": 4,
 "nbformat_minor": 4
}
